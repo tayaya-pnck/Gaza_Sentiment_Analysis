{
 "cells": [
  {
   "cell_type": "code",
   "execution_count": null,
   "metadata": {},
   "outputs": [],
   "source": [
    "import pandas as pd\n",
    "import numpy as np\n",
    "import matplotlib.pyplot as plt\n",
    "import seaborn as sns"
   ]
  },
  {
   "cell_type": "code",
   "execution_count": null,
   "metadata": {},
   "outputs": [],
   "source": [
    "data = pd.read_csv('../data/sentiment_analysis/news_data.csv')"
   ]
  },
  {
   "cell_type": "code",
   "execution_count": null,
   "metadata": {},
   "outputs": [
    {
     "data": {
      "text/html": [
       "<div>\n",
       "<style scoped>\n",
       "    .dataframe tbody tr th:only-of-type {\n",
       "        vertical-align: middle;\n",
       "    }\n",
       "\n",
       "    .dataframe tbody tr th {\n",
       "        vertical-align: top;\n",
       "    }\n",
       "\n",
       "    .dataframe thead th {\n",
       "        text-align: right;\n",
       "    }\n",
       "</style>\n",
       "<table border=\"1\" class=\"dataframe\">\n",
       "  <thead>\n",
       "    <tr style=\"text-align: right;\">\n",
       "      <th></th>\n",
       "      <th>headline</th>\n",
       "      <th>description</th>\n",
       "      <th>date</th>\n",
       "    </tr>\n",
       "  </thead>\n",
       "  <tbody>\n",
       "    <tr>\n",
       "      <th>0</th>\n",
       "      <td>Gaza’s jour­nal­ists: ‘Tar­gets’ or ‘ca­su­al­...</td>\n",
       "      <td>Gaza’s jour­nal­ists are be­ing killed at an u...</td>\n",
       "      <td>23-12-2023</td>\n",
       "    </tr>\n",
       "    <tr>\n",
       "      <th>1</th>\n",
       "      <td>Is­rael or­ders ‘death cor­ri­dor’ evac­u­a­ti...</td>\n",
       "      <td>Hun­dreds of Pales­tini­ans were forced to eva...</td>\n",
       "      <td>23-12-2023</td>\n",
       "    </tr>\n",
       "    <tr>\n",
       "      <th>2</th>\n",
       "      <td>Is­rael’s war on Gaza: List of key events, day 78</td>\n",
       "      <td>UN Se­cu­ri­ty Coun­cil pass­es res­o­lu­tion ...</td>\n",
       "      <td>23-12-2023</td>\n",
       "    </tr>\n",
       "    <tr>\n",
       "      <th>3</th>\n",
       "      <td>US ac­cus­es Iran of be­ing ‘deeply in­volved’...</td>\n",
       "      <td>White House says Tehran is pro­vid­ing Yemeni ...</td>\n",
       "      <td>23-12-2023</td>\n",
       "    </tr>\n",
       "    <tr>\n",
       "      <th>4</th>\n",
       "      <td>Is­raeli forces con­tin­ue at­tacks amid crit­...</td>\n",
       "      <td>The wa­tered-down res­o­lu­tion boost­ing aid ...</td>\n",
       "      <td>23-12-2023</td>\n",
       "    </tr>\n",
       "  </tbody>\n",
       "</table>\n",
       "</div>"
      ],
      "text/plain": [
       "                                            headline  \\\n",
       "0  Gaza’s jour­nal­ists: ‘Tar­gets’ or ‘ca­su­al­...   \n",
       "1  Is­rael or­ders ‘death cor­ri­dor’ evac­u­a­ti...   \n",
       "2  Is­rael’s war on Gaza: List of key events, day 78   \n",
       "3  US ac­cus­es Iran of be­ing ‘deeply in­volved’...   \n",
       "4  Is­raeli forces con­tin­ue at­tacks amid crit­...   \n",
       "\n",
       "                                         description        date  \n",
       "0  Gaza’s jour­nal­ists are be­ing killed at an u...  23-12-2023  \n",
       "1  Hun­dreds of Pales­tini­ans were forced to eva...  23-12-2023  \n",
       "2  UN Se­cu­ri­ty Coun­cil pass­es res­o­lu­tion ...  23-12-2023  \n",
       "3  White House says Tehran is pro­vid­ing Yemeni ...  23-12-2023  \n",
       "4  The wa­tered-down res­o­lu­tion boost­ing aid ...  23-12-2023  "
      ]
     },
     "execution_count": 3,
     "metadata": {},
     "output_type": "execute_result"
    }
   ],
   "source": [
    "data.head()"
   ]
  },
  {
   "cell_type": "code",
   "execution_count": null,
   "metadata": {},
   "outputs": [
    {
     "name": "stdout",
     "output_type": "stream",
     "text": [
      "<class 'pandas.core.frame.DataFrame'>\n",
      "RangeIndex: 3338 entries, 0 to 3337\n",
      "Data columns (total 3 columns):\n",
      " #   Column       Non-Null Count  Dtype \n",
      "---  ------       --------------  ----- \n",
      " 0   headline     3338 non-null   object\n",
      " 1   description  3338 non-null   object\n",
      " 2   date         3338 non-null   object\n",
      "dtypes: object(3)\n",
      "memory usage: 78.4+ KB\n"
     ]
    }
   ],
   "source": [
    "data.info()"
   ]
  },
  {
   "cell_type": "code",
   "execution_count": null,
   "metadata": {},
   "outputs": [
    {
     "data": {
      "text/html": [
       "<div>\n",
       "<style scoped>\n",
       "    .dataframe tbody tr th:only-of-type {\n",
       "        vertical-align: middle;\n",
       "    }\n",
       "\n",
       "    .dataframe tbody tr th {\n",
       "        vertical-align: top;\n",
       "    }\n",
       "\n",
       "    .dataframe thead th {\n",
       "        text-align: right;\n",
       "    }\n",
       "</style>\n",
       "<table border=\"1\" class=\"dataframe\">\n",
       "  <thead>\n",
       "    <tr style=\"text-align: right;\">\n",
       "      <th></th>\n",
       "      <th>headline</th>\n",
       "      <th>description</th>\n",
       "      <th>date</th>\n",
       "    </tr>\n",
       "  </thead>\n",
       "  <tbody>\n",
       "    <tr>\n",
       "      <th>count</th>\n",
       "      <td>3338</td>\n",
       "      <td>3338</td>\n",
       "      <td>3338</td>\n",
       "    </tr>\n",
       "    <tr>\n",
       "      <th>unique</th>\n",
       "      <td>3331</td>\n",
       "      <td>3337</td>\n",
       "      <td>692</td>\n",
       "    </tr>\n",
       "    <tr>\n",
       "      <th>top</th>\n",
       "      <td>Is­raeli forces kill Pales­tin­ian teenag­er i...</td>\n",
       "      <td>As the con­flict be­tween Is­rael and Gaza en­...</td>\n",
       "      <td>17-10-2023</td>\n",
       "    </tr>\n",
       "    <tr>\n",
       "      <th>freq</th>\n",
       "      <td>4</td>\n",
       "      <td>2</td>\n",
       "      <td>39</td>\n",
       "    </tr>\n",
       "  </tbody>\n",
       "</table>\n",
       "</div>"
      ],
      "text/plain": [
       "                                                 headline  \\\n",
       "count                                                3338   \n",
       "unique                                               3331   \n",
       "top     Is­raeli forces kill Pales­tin­ian teenag­er i...   \n",
       "freq                                                    4   \n",
       "\n",
       "                                              description        date  \n",
       "count                                                3338        3338  \n",
       "unique                                               3337         692  \n",
       "top     As the con­flict be­tween Is­rael and Gaza en­...  17-10-2023  \n",
       "freq                                                    2          39  "
      ]
     },
     "execution_count": 5,
     "metadata": {},
     "output_type": "execute_result"
    }
   ],
   "source": [
    "data.describe()"
   ]
  },
  {
   "cell_type": "code",
   "execution_count": null,
   "metadata": {},
   "outputs": [
    {
     "data": {
      "text/plain": [
       "headline       0\n",
       "description    0\n",
       "date           0\n",
       "dtype: int64"
      ]
     },
     "execution_count": 6,
     "metadata": {},
     "output_type": "execute_result"
    }
   ],
   "source": [
    "data.isnull().sum()"
   ]
  },
  {
   "cell_type": "code",
   "execution_count": null,
   "metadata": {},
   "outputs": [
    {
     "data": {
      "text/plain": [
       "<function matplotlib.pyplot.show(close=None, block=None)>"
      ]
     },
     "execution_count": 7,
     "metadata": {},
     "output_type": "execute_result"
    },
    {
     "data": {
      "image/png": "[encoded data removed]",
      "text/plain": [
       "<Figure size 640x480 with 1 Axes>"
      ]
     },
     "metadata": {},
     "output_type": "display_data"
    }
   ],
   "source": [
    "sns.histplot(data['date'], color='purple')\n",
    "plt.show"
   ]
  },
  {
   "cell_type": "code",
   "execution_count": null,
   "metadata": {},
   "outputs": [
    {
     "data": {
      "image/png": "[encoded data removed]",
      "text/plain": [
       "<Figure size 640x480 with 1 Axes>"
      ]
     },
     "metadata": {},
     "output_type": "display_data"
    }
   ],
   "source": [
    "sns.lineplot(data['date'], color='green')\n",
    "plt.show()"
   ]
  },
  {
   "cell_type": "code",
   "execution_count": null,
   "metadata": {},
   "outputs": [
    {
     "name": "stdout",
     "output_type": "stream",
     "text": [
      "Requirement already satisfied: nltk in /home/pancake/miniconda3/envs/tf-gpu/lib/python3.9/site-packages (3.9.1)\n",
      "Requirement already satisfied: click in /home/pancake/miniconda3/envs/tf-gpu/lib/python3.9/site-packages (from nltk) (8.1.7)\n",
      "Requirement already satisfied: joblib in /home/pancake/miniconda3/envs/tf-gpu/lib/python3.9/site-packages (from nltk) (1.4.2)\n",
      "Requirement already satisfied: regex>=2021.8.3 in /home/pancake/miniconda3/envs/tf-gpu/lib/python3.9/site-packages (from nltk) (2024.11.6)\n",
      "Requirement already satisfied: tqdm in /home/pancake/miniconda3/envs/tf-gpu/lib/python3.9/site-packages (from nltk) (4.67.1)\n"
     ]
    }
   ],
   "source": [
    "!pip install nltk"
   ]
  },
  {
   "cell_type": "code",
   "execution_count": null,
   "metadata": {},
   "outputs": [
    {
     "name": "stdout",
     "output_type": "stream",
     "text": [
      "Requirement already satisfied: wordcloud in /home/pancake/miniconda3/envs/tf-gpu/lib/python3.9/site-packages (1.9.4)\n",
      "Requirement already satisfied: numpy>=1.6.1 in /home/pancake/miniconda3/envs/tf-gpu/lib/python3.9/site-packages (from wordcloud) (2.0.1)\n",
      "Requirement already satisfied: pillow in /home/pancake/miniconda3/envs/tf-gpu/lib/python3.9/site-packages (from wordcloud) (11.0.0)\n",
      "Requirement already satisfied: matplotlib in /home/pancake/miniconda3/envs/tf-gpu/lib/python3.9/site-packages (from wordcloud) (3.9.3)\n",
      "Requirement already satisfied: contourpy>=1.0.1 in /home/pancake/miniconda3/envs/tf-gpu/lib/python3.9/site-packages (from matplotlib->wordcloud) (1.3.0)\n",
      "Requirement already satisfied: cycler>=0.10 in /home/pancake/miniconda3/envs/tf-gpu/lib/python3.9/site-packages (from matplotlib->wordcloud) (0.12.1)\n",
      "Requirement already satisfied: fonttools>=4.22.0 in /home/pancake/miniconda3/envs/tf-gpu/lib/python3.9/site-packages (from matplotlib->wordcloud) (4.55.0)\n",
      "Requirement already satisfied: kiwisolver>=1.3.1 in /home/pancake/miniconda3/envs/tf-gpu/lib/python3.9/site-packages (from matplotlib->wordcloud) (1.4.7)\n",
      "Requirement already satisfied: packaging>=20.0 in /home/pancake/miniconda3/envs/tf-gpu/lib/python3.9/site-packages (from matplotlib->wordcloud) (24.2)\n",
      "Requirement already satisfied: pyparsing>=2.3.1 in /home/pancake/miniconda3/envs/tf-gpu/lib/python3.9/site-packages (from matplotlib->wordcloud) (3.2.0)\n",
      "Requirement already satisfied: python-dateutil>=2.7 in /home/pancake/miniconda3/envs/tf-gpu/lib/python3.9/site-packages (from matplotlib->wordcloud) (2.9.0.post0)\n",
      "Requirement already satisfied: importlib-resources>=3.2.0 in /home/pancake/miniconda3/envs/tf-gpu/lib/python3.9/site-packages (from matplotlib->wordcloud) (6.4.5)\n",
      "Requirement already satisfied: zipp>=3.1.0 in /home/pancake/miniconda3/envs/tf-gpu/lib/python3.9/site-packages (from importlib-resources>=3.2.0->matplotlib->wordcloud) (3.21.0)\n",
      "Requirement already satisfied: six>=1.5 in /home/pancake/miniconda3/envs/tf-gpu/lib/python3.9/site-packages (from python-dateutil>=2.7->matplotlib->wordcloud) (1.16.0)\n"
     ]
    }
   ],
   "source": [
    "!pip install wordcloud"
   ]
  },
  {
   "cell_type": "code",
   "execution_count": null,
   "metadata": {},
   "outputs": [],
   "source": [
    "import nltk\n",
    "from sklearn.feature_extraction.text import CountVectorizer \n",
    "from sklearn.feature_extraction.text import TfidfVectorizer \n",
    "from sklearn.preprocessing import LabelBinarizer\n",
    "from nltk.corpus import stopwords \n",
    "from nltk.stem.porter import PorterStemmer \n",
    "from wordcloud import WordCloud,STOPWORDS \n",
    "from nltk.stem import WordNetLemmatizer \n",
    "from nltk.tokenize import word_tokenize "
   ]
  },
  {
   "cell_type": "code",
   "execution_count": null,
   "metadata": {},
   "outputs": [
    {
     "name": "stdout",
     "output_type": "stream",
     "text": [
      "Requirement already satisfied: spacy in /home/pancake/miniconda3/envs/tf-gpu/lib/python3.9/site-packages (3.8.2)\n",
      "Requirement already satisfied: spacy-legacy<3.1.0,>=3.0.11 in /home/pancake/miniconda3/envs/tf-gpu/lib/python3.9/site-packages (from spacy) (3.0.12)\n",
      "Requirement already satisfied: spacy-loggers<2.0.0,>=1.0.0 in /home/pancake/miniconda3/envs/tf-gpu/lib/python3.9/site-packages (from spacy) (1.0.5)\n",
      "Requirement already satisfied: murmurhash<1.1.0,>=0.28.0 in /home/pancake/miniconda3/envs/tf-gpu/lib/python3.9/site-packages (from spacy) (1.0.11)\n",
      "Requirement already satisfied: cymem<2.1.0,>=2.0.2 in /home/pancake/miniconda3/envs/tf-gpu/lib/python3.9/site-packages (from spacy) (2.0.10)\n",
      "Requirement already satisfied: preshed<3.1.0,>=3.0.2 in /home/pancake/miniconda3/envs/tf-gpu/lib/python3.9/site-packages (from spacy) (3.0.9)\n",
      "Requirement already satisfied: thinc<8.4.0,>=8.3.0 in /home/pancake/miniconda3/envs/tf-gpu/lib/python3.9/site-packages (from spacy) (8.3.2)\n",
      "Requirement already satisfied: wasabi<1.2.0,>=0.9.1 in /home/pancake/miniconda3/envs/tf-gpu/lib/python3.9/site-packages (from spacy) (1.1.3)\n",
      "Requirement already satisfied: srsly<3.0.0,>=2.4.3 in /home/pancake/miniconda3/envs/tf-gpu/lib/python3.9/site-packages (from spacy) (2.4.8)\n",
      "Requirement already satisfied: catalogue<2.1.0,>=2.0.6 in /home/pancake/miniconda3/envs/tf-gpu/lib/python3.9/site-packages (from spacy) (2.0.10)\n",
      "Requirement already satisfied: weasel<0.5.0,>=0.1.0 in /home/pancake/miniconda3/envs/tf-gpu/lib/python3.9/site-packages (from spacy) (0.4.1)\n",
      "Requirement already satisfied: typer<1.0.0,>=0.3.0 in /home/pancake/miniconda3/envs/tf-gpu/lib/python3.9/site-packages (from spacy) (0.15.1)\n",
      "Requirement already satisfied: tqdm<5.0.0,>=4.38.0 in /home/pancake/miniconda3/envs/tf-gpu/lib/python3.9/site-packages (from spacy) (4.67.1)\n",
      "Requirement already satisfied: requests<3.0.0,>=2.13.0 in /home/pancake/miniconda3/envs/tf-gpu/lib/python3.9/site-packages (from spacy) (2.32.3)\n",
      "Requirement already satisfied: pydantic!=1.8,!=1.8.1,<3.0.0,>=1.7.4 in /home/pancake/miniconda3/envs/tf-gpu/lib/python3.9/site-packages (from spacy) (2.10.3)\n",
      "Requirement already satisfied: jinja2 in /home/pancake/miniconda3/envs/tf-gpu/lib/python3.9/site-packages (from spacy) (3.1.4)\n",
      "Requirement already satisfied: setuptools in /home/pancake/miniconda3/envs/tf-gpu/lib/python3.9/site-packages (from spacy) (75.1.0)\n",
      "Requirement already satisfied: packaging>=20.0 in /home/pancake/miniconda3/envs/tf-gpu/lib/python3.9/site-packages (from spacy) (24.2)\n",
      "Requirement already satisfied: langcodes<4.0.0,>=3.2.0 in /home/pancake/miniconda3/envs/tf-gpu/lib/python3.9/site-packages (from spacy) (3.5.0)\n",
      "Requirement already satisfied: numpy>=1.19.0 in /home/pancake/miniconda3/envs/tf-gpu/lib/python3.9/site-packages (from spacy) (2.0.1)\n",
      "Requirement already satisfied: language-data>=1.2 in /home/pancake/miniconda3/envs/tf-gpu/lib/python3.9/site-packages (from langcodes<4.0.0,>=3.2.0->spacy) (1.3.0)\n",
      "Requirement already satisfied: annotated-types>=0.6.0 in /home/pancake/miniconda3/envs/tf-gpu/lib/python3.9/site-packages (from pydantic!=1.8,!=1.8.1,<3.0.0,>=1.7.4->spacy) (0.7.0)\n",
      "Requirement already satisfied: pydantic-core==2.27.1 in /home/pancake/miniconda3/envs/tf-gpu/lib/python3.9/site-packages (from pydantic!=1.8,!=1.8.1,<3.0.0,>=1.7.4->spacy) (2.27.1)\n",
      "Requirement already satisfied: typing-extensions>=4.12.2 in /home/pancake/miniconda3/envs/tf-gpu/lib/python3.9/site-packages (from pydantic!=1.8,!=1.8.1,<3.0.0,>=1.7.4->spacy) (4.12.2)\n",
      "Requirement already satisfied: charset-normalizer<4,>=2 in /home/pancake/miniconda3/envs/tf-gpu/lib/python3.9/site-packages (from requests<3.0.0,>=2.13.0->spacy) (3.4.0)\n",
      "Requirement already satisfied: idna<4,>=2.5 in /home/pancake/miniconda3/envs/tf-gpu/lib/python3.9/site-packages (from requests<3.0.0,>=2.13.0->spacy) (3.7)\n",
      "Requirement already satisfied: urllib3<3,>=1.21.1 in /home/pancake/miniconda3/envs/tf-gpu/lib/python3.9/site-packages (from requests<3.0.0,>=2.13.0->spacy) (2.2.3)\n",
      "Requirement already satisfied: certifi>=2017.4.17 in /home/pancake/miniconda3/envs/tf-gpu/lib/python3.9/site-packages (from requests<3.0.0,>=2.13.0->spacy) (2024.8.30)\n",
      "Requirement already satisfied: blis<1.1.0,>=1.0.0 in /home/pancake/miniconda3/envs/tf-gpu/lib/python3.9/site-packages (from thinc<8.4.0,>=8.3.0->spacy) (1.0.1)\n",
      "Requirement already satisfied: confection<1.0.0,>=0.0.1 in /home/pancake/miniconda3/envs/tf-gpu/lib/python3.9/site-packages (from thinc<8.4.0,>=8.3.0->spacy) (0.1.5)\n",
      "Requirement already satisfied: click>=8.0.0 in /home/pancake/miniconda3/envs/tf-gpu/lib/python3.9/site-packages (from typer<1.0.0,>=0.3.0->spacy) (8.1.7)\n",
      "Requirement already satisfied: shellingham>=1.3.0 in /home/pancake/miniconda3/envs/tf-gpu/lib/python3.9/site-packages (from typer<1.0.0,>=0.3.0->spacy) (1.5.4)\n",
      "Requirement already satisfied: rich>=10.11.0 in /home/pancake/miniconda3/envs/tf-gpu/lib/python3.9/site-packages (from typer<1.0.0,>=0.3.0->spacy) (13.9.4)\n",
      "Requirement already satisfied: cloudpathlib<1.0.0,>=0.7.0 in /home/pancake/miniconda3/envs/tf-gpu/lib/python3.9/site-packages (from weasel<0.5.0,>=0.1.0->spacy) (0.20.0)\n",
      "Requirement already satisfied: smart-open<8.0.0,>=5.2.1 in /home/pancake/miniconda3/envs/tf-gpu/lib/python3.9/site-packages (from weasel<0.5.0,>=0.1.0->spacy) (7.0.5)\n",
      "Requirement already satisfied: MarkupSafe>=2.0 in /home/pancake/miniconda3/envs/tf-gpu/lib/python3.9/site-packages (from jinja2->spacy) (3.0.2)\n",
      "Requirement already satisfied: marisa-trie>=1.1.0 in /home/pancake/miniconda3/envs/tf-gpu/lib/python3.9/site-packages (from language-data>=1.2->langcodes<4.0.0,>=3.2.0->spacy) (1.2.1)\n",
      "Requirement already satisfied: markdown-it-py>=2.2.0 in /home/pancake/miniconda3/envs/tf-gpu/lib/python3.9/site-packages (from rich>=10.11.0->typer<1.0.0,>=0.3.0->spacy) (3.0.0)\n",
      "Requirement already satisfied: pygments<3.0.0,>=2.13.0 in /home/pancake/miniconda3/envs/tf-gpu/lib/python3.9/site-packages (from rich>=10.11.0->typer<1.0.0,>=0.3.0->spacy) (2.18.0)\n",
      "Requirement already satisfied: wrapt in /home/pancake/miniconda3/envs/tf-gpu/lib/python3.9/site-packages (from smart-open<8.0.0,>=5.2.1->weasel<0.5.0,>=0.1.0->spacy) (1.17.0)\n",
      "Requirement already satisfied: mdurl~=0.1 in /home/pancake/miniconda3/envs/tf-gpu/lib/python3.9/site-packages (from markdown-it-py>=2.2.0->rich>=10.11.0->typer<1.0.0,>=0.3.0->spacy) (0.1.2)\n"
     ]
    }
   ],
   "source": [
    "!pip install spacy"
   ]
  },
  {
   "cell_type": "code",
   "execution_count": null,
   "metadata": {},
   "outputs": [
    {
     "name": "stdout",
     "output_type": "stream",
     "text": [
      "Requirement already satisfied: textblob in /home/pancake/miniconda3/envs/tf-gpu/lib/python3.9/site-packages (0.18.0.post0)\n",
      "Requirement already satisfied: nltk>=3.8 in /home/pancake/miniconda3/envs/tf-gpu/lib/python3.9/site-packages (from textblob) (3.9.1)\n",
      "Requirement already satisfied: click in /home/pancake/miniconda3/envs/tf-gpu/lib/python3.9/site-packages (from nltk>=3.8->textblob) (8.1.7)\n",
      "Requirement already satisfied: joblib in /home/pancake/miniconda3/envs/tf-gpu/lib/python3.9/site-packages (from nltk>=3.8->textblob) (1.4.2)\n",
      "Requirement already satisfied: regex>=2021.8.3 in /home/pancake/miniconda3/envs/tf-gpu/lib/python3.9/site-packages (from nltk>=3.8->textblob) (2024.11.6)\n",
      "Requirement already satisfied: tqdm in /home/pancake/miniconda3/envs/tf-gpu/lib/python3.9/site-packages (from nltk>=3.8->textblob) (4.67.1)\n"
     ]
    }
   ],
   "source": [
    "!pip install textblob"
   ]
  },
  {
   "cell_type": "code",
   "execution_count": null,
   "metadata": {},
   "outputs": [],
   "source": [
    "import re\n",
    "import string \n",
    "import unicodedata\n",
    "import spacy\n",
    "from nltk.tokenize.toktok import ToktokTokenizer\n",
    "from nltk.stem import LancasterStemmer,WordNetLemmatizer \n",
    "from sklearn.linear_model import LinearRegression \n",
    "from sklearn.naive_bayes import MultinomialNB \n",
    "from sklearn.svm import SVC\n",
    "from textblob import TextBlob\n",
    "from textblob import Word\n",
    "from sklearn.metrics import classification_report,confusion_matrix,accuracy_score \n",
    "from bs4 import BeautifulSoup"
   ]
  },
  {
   "cell_type": "code",
   "execution_count": null,
   "metadata": {},
   "outputs": [
    {
     "name": "stderr",
     "output_type": "stream",
     "text": [
      "[nltk_data] Downloading package stopwords to\n",
      "[nltk_data]     /home/pancake/nltk_data...\n",
      "[nltk_data]   Package stopwords is already up-to-date!\n"
     ]
    },
    {
     "data": {
      "text/plain": [
       "True"
      ]
     },
     "execution_count": 15,
     "metadata": {},
     "output_type": "execute_result"
    }
   ],
   "source": [
    "nltk.download('stopwords')"
   ]
  },
  {
   "cell_type": "code",
   "execution_count": null,
   "metadata": {},
   "outputs": [],
   "source": [
    "tokenizers=ToktokTokenizer()\n",
    "stopwords=nltk.corpus.stopwords.words('english')"
   ]
  },
  {
   "cell_type": "code",
   "execution_count": null,
   "metadata": {},
   "outputs": [],
   "source": [
    "def noiseremoval_text(text):\n",
    "    text = re.sub('\\[[^]]*\\]', '',text)\n",
    "    return text "
   ]
  },
  {
   "cell_type": "code",
   "execution_count": null,
   "metadata": {},
   "outputs": [],
   "source": [
    "data['description']=data['description'].apply(noiseremoval_text)"
   ]
  },
  {
   "cell_type": "code",
   "execution_count": null,
   "metadata": {},
   "outputs": [],
   "source": [
    "\n",
    "# Preprocessing function\n",
    "def clean_text(text):\n",
    "    text = re.sub(r'http\\S+', '', text)  \n",
    "    text = re.sub(r'[^\\w\\s]', '', text)  \n",
    "    text = text.lower()  \n",
    "    return text"
   ]
  },
  {
   "cell_type": "code",
   "execution_count": null,
   "metadata": {},
   "outputs": [],
   "source": [
    "data['cleaned_text'] = data['description'].apply(clean_text)"
   ]
  },
  {
   "cell_type": "code",
   "execution_count": null,
   "metadata": {},
   "outputs": [
    {
     "data": {
      "text/html": [
       "<div>\n",
       "<style scoped>\n",
       "    .dataframe tbody tr th:only-of-type {\n",
       "        vertical-align: middle;\n",
       "    }\n",
       "\n",
       "    .dataframe tbody tr th {\n",
       "        vertical-align: top;\n",
       "    }\n",
       "\n",
       "    .dataframe thead th {\n",
       "        text-align: right;\n",
       "    }\n",
       "</style>\n",
       "<table border=\"1\" class=\"dataframe\">\n",
       "  <thead>\n",
       "    <tr style=\"text-align: right;\">\n",
       "      <th></th>\n",
       "      <th>headline</th>\n",
       "      <th>description</th>\n",
       "      <th>date</th>\n",
       "      <th>cleaned_text</th>\n",
       "    </tr>\n",
       "  </thead>\n",
       "  <tbody>\n",
       "    <tr>\n",
       "      <th>0</th>\n",
       "      <td>Gaza’s jour­nal­ists: ‘Tar­gets’ or ‘ca­su­al­...</td>\n",
       "      <td>Gaza’s jour­nal­ists are be­ing killed at an u...</td>\n",
       "      <td>23-12-2023</td>\n",
       "      <td>gazas journalists are being killed at an unpre...</td>\n",
       "    </tr>\n",
       "    <tr>\n",
       "      <th>1</th>\n",
       "      <td>Is­rael or­ders ‘death cor­ri­dor’ evac­u­a­ti...</td>\n",
       "      <td>Hun­dreds of Pales­tini­ans were forced to eva...</td>\n",
       "      <td>23-12-2023</td>\n",
       "      <td>hundreds of palestinians were forced to evacua...</td>\n",
       "    </tr>\n",
       "    <tr>\n",
       "      <th>2</th>\n",
       "      <td>Is­rael’s war on Gaza: List of key events, day 78</td>\n",
       "      <td>UN Se­cu­ri­ty Coun­cil pass­es res­o­lu­tion ...</td>\n",
       "      <td>23-12-2023</td>\n",
       "      <td>un security council passes resolution to boost...</td>\n",
       "    </tr>\n",
       "    <tr>\n",
       "      <th>3</th>\n",
       "      <td>US ac­cus­es Iran of be­ing ‘deeply in­volved’...</td>\n",
       "      <td>White House says Tehran is pro­vid­ing Yemeni ...</td>\n",
       "      <td>23-12-2023</td>\n",
       "      <td>white house says tehran is providing yemeni re...</td>\n",
       "    </tr>\n",
       "    <tr>\n",
       "      <th>4</th>\n",
       "      <td>Is­raeli forces con­tin­ue at­tacks amid crit­...</td>\n",
       "      <td>The wa­tered-down res­o­lu­tion boost­ing aid ...</td>\n",
       "      <td>23-12-2023</td>\n",
       "      <td>the watereddown resolution boosting aid to gaz...</td>\n",
       "    </tr>\n",
       "  </tbody>\n",
       "</table>\n",
       "</div>"
      ],
      "text/plain": [
       "                                            headline  \\\n",
       "0  Gaza’s jour­nal­ists: ‘Tar­gets’ or ‘ca­su­al­...   \n",
       "1  Is­rael or­ders ‘death cor­ri­dor’ evac­u­a­ti...   \n",
       "2  Is­rael’s war on Gaza: List of key events, day 78   \n",
       "3  US ac­cus­es Iran of be­ing ‘deeply in­volved’...   \n",
       "4  Is­raeli forces con­tin­ue at­tacks amid crit­...   \n",
       "\n",
       "                                         description        date  \\\n",
       "0  Gaza’s jour­nal­ists are be­ing killed at an u...  23-12-2023   \n",
       "1  Hun­dreds of Pales­tini­ans were forced to eva...  23-12-2023   \n",
       "2  UN Se­cu­ri­ty Coun­cil pass­es res­o­lu­tion ...  23-12-2023   \n",
       "3  White House says Tehran is pro­vid­ing Yemeni ...  23-12-2023   \n",
       "4  The wa­tered-down res­o­lu­tion boost­ing aid ...  23-12-2023   \n",
       "\n",
       "                                        cleaned_text  \n",
       "0  gazas journalists are being killed at an unpre...  \n",
       "1  hundreds of palestinians were forced to evacua...  \n",
       "2  un security council passes resolution to boost...  \n",
       "3  white house says tehran is providing yemeni re...  \n",
       "4  the watereddown resolution boosting aid to gaz...  "
      ]
     },
     "execution_count": 21,
     "metadata": {},
     "output_type": "execute_result"
    }
   ],
   "source": [
    "data.head()"
   ]
  },
  {
   "cell_type": "code",
   "execution_count": null,
   "metadata": {},
   "outputs": [],
   "source": [
    "def stemmer(text):\n",
    "    ps =nltk.porter.PorterStemmer()\n",
    "    text =''.join((ps.stem(word) for word in text.split()))\n",
    "    return text"
   ]
  },
  {
   "cell_type": "code",
   "execution_count": null,
   "metadata": {},
   "outputs": [],
   "source": [
    "data['cleaned_text']=data['cleaned_text'].apply(stemmer)"
   ]
  },
  {
   "cell_type": "code",
   "execution_count": null,
   "metadata": {},
   "outputs": [
    {
     "data": {
      "text/html": [
       "<div>\n",
       "<style scoped>\n",
       "    .dataframe tbody tr th:only-of-type {\n",
       "        vertical-align: middle;\n",
       "    }\n",
       "\n",
       "    .dataframe tbody tr th {\n",
       "        vertical-align: top;\n",
       "    }\n",
       "\n",
       "    .dataframe thead th {\n",
       "        text-align: right;\n",
       "    }\n",
       "</style>\n",
       "<table border=\"1\" class=\"dataframe\">\n",
       "  <thead>\n",
       "    <tr style=\"text-align: right;\">\n",
       "      <th></th>\n",
       "      <th>headline</th>\n",
       "      <th>description</th>\n",
       "      <th>date</th>\n",
       "      <th>cleaned_text</th>\n",
       "    </tr>\n",
       "  </thead>\n",
       "  <tbody>\n",
       "    <tr>\n",
       "      <th>0</th>\n",
       "      <td>Gaza’s jour­nal­ists: ‘Tar­gets’ or ‘ca­su­al­...</td>\n",
       "      <td>Gaza’s jour­nal­ists are be­ing killed at an u...</td>\n",
       "      <td>23-12-2023</td>\n",
       "      <td>gazajournalistarebekillatanunprecedratepluisra...</td>\n",
       "    </tr>\n",
       "    <tr>\n",
       "      <th>1</th>\n",
       "      <td>Is­rael or­ders ‘death cor­ri­dor’ evac­u­a­ti...</td>\n",
       "      <td>Hun­dreds of Pales­tini­ans were forced to eva...</td>\n",
       "      <td>23-12-2023</td>\n",
       "      <td>hundrofpalestinianwereforctoevacubureijandnuse...</td>\n",
       "    </tr>\n",
       "    <tr>\n",
       "      <th>2</th>\n",
       "      <td>Is­rael’s war on Gaza: List of key events, day 78</td>\n",
       "      <td>UN Se­cu­ri­ty Coun­cil pass­es res­o­lu­tion ...</td>\n",
       "      <td>23-12-2023</td>\n",
       "      <td>unsecurcouncilpassresoluttoboostaiddeliveritog...</td>\n",
       "    </tr>\n",
       "    <tr>\n",
       "      <th>3</th>\n",
       "      <td>US ac­cus­es Iran of be­ing ‘deeply in­volved’...</td>\n",
       "      <td>White House says Tehran is pro­vid­ing Yemeni ...</td>\n",
       "      <td>23-12-2023</td>\n",
       "      <td>whitehoussaytehranisprovidyemenirebelgroupwith...</td>\n",
       "    </tr>\n",
       "    <tr>\n",
       "      <th>4</th>\n",
       "      <td>Is­raeli forces con­tin­ue at­tacks amid crit­...</td>\n",
       "      <td>The wa­tered-down res­o­lu­tion boost­ing aid ...</td>\n",
       "      <td>23-12-2023</td>\n",
       "      <td>thewatereddownresolutboostaidtogazahabeencriti...</td>\n",
       "    </tr>\n",
       "  </tbody>\n",
       "</table>\n",
       "</div>"
      ],
      "text/plain": [
       "                                            headline  \\\n",
       "0  Gaza’s jour­nal­ists: ‘Tar­gets’ or ‘ca­su­al­...   \n",
       "1  Is­rael or­ders ‘death cor­ri­dor’ evac­u­a­ti...   \n",
       "2  Is­rael’s war on Gaza: List of key events, day 78   \n",
       "3  US ac­cus­es Iran of be­ing ‘deeply in­volved’...   \n",
       "4  Is­raeli forces con­tin­ue at­tacks amid crit­...   \n",
       "\n",
       "                                         description        date  \\\n",
       "0  Gaza’s jour­nal­ists are be­ing killed at an u...  23-12-2023   \n",
       "1  Hun­dreds of Pales­tini­ans were forced to eva...  23-12-2023   \n",
       "2  UN Se­cu­ri­ty Coun­cil pass­es res­o­lu­tion ...  23-12-2023   \n",
       "3  White House says Tehran is pro­vid­ing Yemeni ...  23-12-2023   \n",
       "4  The wa­tered-down res­o­lu­tion boost­ing aid ...  23-12-2023   \n",
       "\n",
       "                                        cleaned_text  \n",
       "0  gazajournalistarebekillatanunprecedratepluisra...  \n",
       "1  hundrofpalestinianwereforctoevacubureijandnuse...  \n",
       "2  unsecurcouncilpassresoluttoboostaiddeliveritog...  \n",
       "3  whitehoussaytehranisprovidyemenirebelgroupwith...  \n",
       "4  thewatereddownresolutboostaidtogazahabeencriti...  "
      ]
     },
     "execution_count": 24,
     "metadata": {},
     "output_type": "execute_result"
    }
   ],
   "source": [
    "data.head()"
   ]
  },
  {
   "cell_type": "code",
   "execution_count": null,
   "metadata": {},
   "outputs": [
    {
     "name": "stdout",
     "output_type": "stream",
     "text": [
      "['13yearoldgamerwatritobuildafollowonhiyoutubchannelbeforhewakillinanisraairattack'\n",
      " '15yearoldmohamdaadawakillbyisraforcwhileprotestillegsettlementintheoccupiwestbank'\n",
      " '18memberofonefamiliwerekillinisraairattackinthesoutherncitiofrafah' ...\n",
      " 'younighassantayeh20wakillbytheisraarmidurearaidonthealfaraarefugecampneartuba'\n",
      " 'zainabalqolaqwhoopenherartexhibitontuesdaylost22memberofherfamiliinanisrabomblastmay'\n",
      " 'zakariahamayel28struckbyabullettothechestataprotestinbeitasouthofnabluhealthministrisay']\n",
      "[[0. 0. 0. ... 0. 0. 0.]\n",
      " [0. 0. 0. ... 0. 0. 0.]\n",
      " [0. 0. 0. ... 0. 0. 0.]\n",
      " ...\n",
      " [0. 0. 0. ... 0. 0. 0.]\n",
      " [0. 0. 0. ... 0. 0. 0.]\n",
      " [0. 0. 0. ... 0. 0. 0.]]\n"
     ]
    }
   ],
   "source": [
    "from sklearn.feature_extraction.text import TfidfVectorizer\n",
    "\n",
    "vectorizer = TfidfVectorizer(max_features=5000)\n",
    "X = vectorizer.fit_transform(data['cleaned_text'])\n",
    "\n",
    "print(vectorizer.get_feature_names_out())\n",
    "print(X.toarray())\n"
   ]
  },
  {
   "cell_type": "code",
   "execution_count": null,
   "metadata": {},
   "outputs": [],
   "source": [
    "# import pandas as pd\n",
    "# import re\n",
    "# from sklearn.model_selection import train_test_split\n",
    "# from sklearn.feature_extraction.text import TfidfVectorizer\n",
    "# from sklearn.linear_model import LogisticRegression\n",
    "# from sklearn.metrics import classification_report, accuracy_score\n",
    "\n",
    "\n",
    "# y = data['sentiment']  \n",
    "\n",
    "\n",
    "# X_train, X_test, y_train, y_test = train_test_split(X, y, test_size=0.2, random_state=42)\n",
    "\n",
    "\n",
    "# model = LogisticRegression()\n",
    "# model.fit(X_train, y_train)\n",
    "\n",
    "# y_pred = model.predict(X_test)\n",
    "\n",
    "\n",
    "# print(\"Accuracy:\", accuracy_score(y_test, y_pred))\n",
    "# print(classification_report(y_test, y_pred))"
   ]
  },
  {
   "cell_type": "code",
   "execution_count": null,
   "metadata": {},
   "outputs": [],
   "source": []
  }
 ],
 "metadata": {
  "kernelspec": {
   "display_name": "tf-gpu",
   "language": "python",
   "name": "python3"
  },
  "language_info": {
   "codemirror_mode": {
    "name": "ipython",
    "version": 3
   },
   "file_extension": ".py",
   "mimetype": "text/x-python",
   "name": "python",
   "nbconvert_exporter": "python",
   "pygments_lexer": "ipython3",
   "version": "3.9.20"
  }
 },
 "nbformat": 4,
 "nbformat_minor": 2
}
